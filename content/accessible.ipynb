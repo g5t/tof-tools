{
 "cells": [
  {
   "cell_type": "markdown",
   "id": "7f255d9d-7775-4c8a-a5ea-ce15cbb49b6b",
   "metadata": {},
   "source": [
    "# Accessible _(**Q**,E)_ tool"
   ]
  },
  {
   "cell_type": "code",
   "execution_count": null,
   "id": "22e5d8d3-eb80-4372-8df4-7dc72090da0e",
   "metadata": {
    "tags": []
   },
   "outputs": [],
   "source": [
    "from accessibleQEtool import accessible_QE_tool\n",
    "accessible_QE_tool()"
   ]
  }
 ],
 "metadata": {
  "kernelspec": {
   "display_name": "Python 3 (ipykernel)",
   "language": "python",
   "name": "python3"
  },
  "language_info": {
   "codemirror_mode": {
    "name": "ipython",
    "version": 3
   },
   "file_extension": ".py",
   "mimetype": "text/x-python",
   "name": "python",
   "nbconvert_exporter": "python",
   "pygments_lexer": "ipython3",
   "version": "3.11.0"
  }
 },
 "nbformat": 4,
 "nbformat_minor": 5
}
