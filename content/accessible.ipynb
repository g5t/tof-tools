{
 "cells": [
  {
   "cell_type": "markdown",
   "id": "7f255d9d-7775-4c8a-a5ea-ce15cbb49b6b",
   "metadata": {},
   "source": [
    "### Activate dependent packages\n",
    "Both `ipywidgets` and `numpy` are already installed, however this browser-based Python kernel will not use them unless instructed to:"
   ]
  },
  {
   "cell_type": "code",
   "execution_count": null,
   "id": "9cac8081-cf99-4c8b-b39e-35c05ed59247",
   "metadata": {},
   "outputs": [],
   "source": [
    "%pip install ipywidgets numpy"
   ]
  },
  {
   "cell_type": "markdown",
   "id": "dc48b445-89d8-4e32-8036-664fc931dfa0",
   "metadata": {},
   "source": [
    "## Interactive accessible _(**Q**,E)_ tool\n",
    "Display accessible regions of _(**Q**,E)_ for a direct-geometry time-of-flight spectrometer with specified detector angle ranges.\n",
    "The tool below shows accessible regions in $Q_x$ vs. $Q_y$ and $|Q|$ vs. $E$, for one or more incident energies.\n",
    "\n",
    "| control | modifies |\n",
    "|---------|----------|\n",
    "| $E_i$ | the highest incident energy | \n",
    "| $E$ | the energy transfer, $E_i-E_f'$ |\n",
    "| $\\Psi$ | the sample rotation angle range |\n",
    "| # $E_i$ | the number of incident energies |\n",
    "| `Add detector range` | add a new detector angle-range pair to the list\n",
    "| `x` | remove the detector angle-range pair to the right of the control |\n",
    "\n",
    "The final drawing shows blocked and open angle regions in real-space, with the incident neutron wavevector indicated by the arrow from the left.\n"
   ]
  },
  {
   "cell_type": "code",
   "execution_count": null,
   "id": "22e5d8d3-eb80-4372-8df4-7dc72090da0e",
   "metadata": {
    "tags": []
   },
   "outputs": [],
   "source": [
    "from accessibleQEtool import accessible_QE_tool\n",
    "accessible_QE_tool()"
   ]
  },
  {
   "cell_type": "code",
   "execution_count": null,
   "id": "783ac038-dd35-456b-bb9f-7fc1dfed08ef",
   "metadata": {},
   "outputs": [],
   "source": []
  }
 ],
 "metadata": {
  "kernelspec": {
   "display_name": "Python 3 (ipykernel)",
   "language": "python",
   "name": "python3"
  },
  "language_info": {
   "codemirror_mode": {
    "name": "ipython",
    "version": 3
   },
   "file_extension": ".py",
   "mimetype": "text/x-python",
   "name": "python",
   "nbconvert_exporter": "python",
   "pygments_lexer": "ipython3",
   "version": "3.11.0"
  }
 },
 "nbformat": 4,
 "nbformat_minor": 5
}
