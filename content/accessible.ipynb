{
 "cells": [
  {
   "cell_type": "code",
   "execution_count": 1,
   "id": "22e5d8d3-eb80-4372-8df4-7dc72090da0e",
   "metadata": {
    "tags": []
   },
   "outputs": [],
   "source": [
    "from accessibleQEtool import accessible_QE_tool"
   ]
  },
  {
   "cell_type": "code",
   "execution_count": 2,
   "id": "afd56a29-1785-4a7a-81dc-5fce9ac419c2",
   "metadata": {
    "tags": []
   },
   "outputs": [
    {
     "data": {
      "application/vnd.jupyter.widget-view+json": {
       "model_id": "e16a84230a994e60aaa58513b496540c",
       "version_major": 2,
       "version_minor": 0
      },
      "text/plain": [
       "HBox(children=(VBox(children=(VBox(children=(HBox(children=(Label(value='$E_i =$'), Label(value='1.50 meV'))),…"
      ]
     },
     "execution_count": 2,
     "metadata": {},
     "output_type": "execute_result"
    }
   ],
   "source": [
    "accessible_QE_tool()"
   ]
  },
  {
   "cell_type": "code",
   "execution_count": null,
   "id": "1a8f61c9-d843-470d-aa03-820ef58ae7ee",
   "metadata": {},
   "outputs": [],
   "source": []
  }
 ],
 "metadata": {
  "kernelspec": {
   "display_name": "Python 3 (ipykernel)",
   "language": "python",
   "name": "python3"
  },
  "language_info": {
   "codemirror_mode": {
    "name": "ipython",
    "version": 3
   },
   "file_extension": ".py",
   "mimetype": "text/x-python",
   "name": "python",
   "nbconvert_exporter": "python",
   "pygments_lexer": "ipython3",
   "version": "3.11.0"
  }
 },
 "nbformat": 4,
 "nbformat_minor": 5
}
